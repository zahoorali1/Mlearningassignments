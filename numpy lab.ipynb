{
 "cells": [
  {
   "cell_type": "code",
   "execution_count": 1,
   "id": "d52c9819",
   "metadata": {},
   "outputs": [],
   "source": [
    "import numpy as np "
   ]
  },
  {
   "cell_type": "markdown",
   "id": "3bed16ee",
   "metadata": {},
   "source": [
    "## Populate arrays with specific numbers\n",
    "\n",
    "Call `np.array` to create a NumPy array with your own hand-picked values. For example, the following call to `np.array` creates an 8-element array:"
   ]
  },
  {
   "cell_type": "code",
   "execution_count": 2,
   "id": "fc2dc6e6",
   "metadata": {},
   "outputs": [
    {
     "name": "stdout",
     "output_type": "stream",
     "text": [
      "[1.2 2.4 3.5 4.7 6.1 7.2 8.3 9.5]\n"
     ]
    }
   ],
   "source": [
    "one_dimensional_array = np.array([1.2, 2.4, 3.5, 4.7, 6.1, 7.2, 8.3, 9.5])\n",
    "print(one_dimensional_array)"
   ]
  },
  {
   "cell_type": "code",
   "execution_count": 3,
   "id": "ddd32eaa",
   "metadata": {},
   "outputs": [
    {
     "name": "stdout",
     "output_type": "stream",
     "text": [
      "[[ 6  5]\n",
      " [11  7]\n",
      " [ 4  8]]\n"
     ]
    }
   ],
   "source": [
    "two_dimensional_array = np.array([[6, 5], [11, 7], [4, 8]])\n",
    "print(two_dimensional_array)"
   ]
  },
  {
   "cell_type": "markdown",
   "id": "46caf6b4",
   "metadata": {},
   "source": [
    "## Populate arrays with sequences of numbers\n",
    "\n",
    "You can populate an array with a sequence of numbers:"
   ]
  },
  {
   "cell_type": "code",
   "execution_count": 4,
   "id": "b94ff934",
   "metadata": {},
   "outputs": [
    {
     "name": "stdout",
     "output_type": "stream",
     "text": [
      "[ 5  6  7  8  9 10 11]\n"
     ]
    }
   ],
   "source": [
    "sequence_of_integers = np.arange(5, 12)\n",
    "print(sequence_of_integers)"
   ]
  },
  {
   "cell_type": "markdown",
   "id": "4eef2e18",
   "metadata": {},
   "source": [
    "## Populate arrays with random numbers\n",
    "\n",
    "NumPy provides various functions to populate arrays with random numbers across certain ranges. For example, `np.random.randint` generates random integers between a low and high value. The following call populates a 6-element array with random integers between 50 and 100. \n",
    "\n",
    "\n"
   ]
  },
  {
   "cell_type": "code",
   "execution_count": 5,
   "id": "b391bc80",
   "metadata": {},
   "outputs": [
    {
     "name": "stdout",
     "output_type": "stream",
     "text": [
      "[ 52  69  53 100  73  84]\n"
     ]
    }
   ],
   "source": [
    "random_integers_between_50_and_100 = np.random.randint(low=50, high=101, size=(6))\n",
    "print(random_integers_between_50_and_100)"
   ]
  },
  {
   "cell_type": "code",
   "execution_count": 6,
   "id": "7a0c3899",
   "metadata": {},
   "outputs": [
    {
     "name": "stdout",
     "output_type": "stream",
     "text": [
      "[0.64314849 0.87512816 0.82730357 0.61933081 0.26110898 0.70964618]\n"
     ]
    }
   ],
   "source": [
    "# floats\n",
    "random_floats_between_0_and_1 = np.random.random([6])\n",
    "print(random_floats_between_0_and_1) "
   ]
  },
  {
   "cell_type": "markdown",
   "id": "a3901a4b",
   "metadata": {},
   "source": [
    "## Mathematical Operations on NumPy Operands\n",
    "\n",
    "If you want to add or subtract two arrays, linear algebra requires that the two operands have the same dimensions. \n",
    "Furthermore, if you want to multiply two arrays, linear algebra imposes strict rules on the dimensional compatibility \n",
    "of operands. Fortunately, NumPy uses a trick called [**broadcasting**]\n",
    "(https://developers.google.com/machine-learning/glossary/#broadcasting) to virtually expand the smaller operand to dimensions compatible for linear algebra. For example, the following operation uses broadcasting to add 2.0 to the value of every item in the array created in the previous code cell:"
   ]
  },
  {
   "cell_type": "code",
   "execution_count": 7,
   "id": "fdf99a2a",
   "metadata": {},
   "outputs": [
    {
     "name": "stdout",
     "output_type": "stream",
     "text": [
      "[2.64314849 2.87512816 2.82730357 2.61933081 2.26110898 2.70964618]\n"
     ]
    }
   ],
   "source": [
    "random_floats_between_2_and_3 = random_floats_between_0_and_1 + 2.0\n",
    "print(random_floats_between_2_and_3)"
   ]
  },
  {
   "cell_type": "code",
   "execution_count": 8,
   "id": "8b073798",
   "metadata": {},
   "outputs": [
    {
     "name": "stdout",
     "output_type": "stream",
     "text": [
      "[156 207 159 300 219 252]\n"
     ]
    }
   ],
   "source": [
    "random_integers_between_150_and_300 = random_integers_between_50_and_100 * 3\n",
    "print(random_integers_between_150_and_300)"
   ]
  },
  {
   "cell_type": "markdown",
   "id": "15e950ae",
   "metadata": {},
   "source": [
    "## Task 1: Create a Linear Dataset\n",
    "\n",
    "Your goal is to create a simple dataset consisting of a single feature and a label as follows:\n",
    "\n",
    "1. Assign a sequence of integers from 6 to 20 (inclusive) to a NumPy array named `feature`.\n",
    "2. Assign 15 values to a NumPy array named `label` such that:\n",
    "\n",
    "```\n",
    "   label = (3)(feature) + 4\n",
    "```\n",
    "For example, the first value for `label` should be:\n",
    "\n",
    "```\n",
    "  label = (3)(6) + 4 = 22\n",
    " ```"
   ]
  },
  {
   "cell_type": "code",
   "execution_count": 9,
   "id": "452c8e4c",
   "metadata": {},
   "outputs": [
    {
     "name": "stdout",
     "output_type": "stream",
     "text": [
      "[ 6  7  8  9 10 11 12 13 14 15 16 17 18 19 20]\n",
      "[22 25 28 31 34 37 40 43 46 49 52 55 58 61 64]\n"
     ]
    }
   ],
   "source": [
    "#@title Double-click to see a possible solution to Task 1.\n",
    "feature = np.arange(6, 21)\n",
    "print(feature)\n",
    "label = (feature * 3) + 4\n",
    "print(label)"
   ]
  },
  {
   "cell_type": "markdown",
   "id": "25835892",
   "metadata": {},
   "source": [
    "## Task 2: Add Some Noise to the Dataset\n",
    "\n",
    "To make your dataset a little more realistic, insert a little random noise into each element of the `label` array you already created. To be more precise, modify each value assigned to `label` by adding a *different* random floating-point value between -2 and +2. \n",
    "\n",
    "Don't rely on broadcasting. Instead, create a `noise` array having the same dimension as `label`."
   ]
  },
  {
   "cell_type": "code",
   "execution_count": 10,
   "id": "738bc5e5",
   "metadata": {},
   "outputs": [
    {
     "name": "stdout",
     "output_type": "stream",
     "text": [
      "[-0.0024597   1.88091674 -0.6717031   1.43686925  1.82644796  0.2710954\n",
      " -0.91820465  0.46016259 -0.38440869 -1.05031884  1.00784583 -0.06908285\n",
      "  0.71773353 -1.64473518 -1.80168349]\n",
      "[21.9975403  26.88091674 27.3282969  32.43686925 35.82644796 37.2710954\n",
      " 39.08179535 43.46016259 45.61559131 47.94968116 53.00784583 54.93091715\n",
      " 58.71773353 59.35526482 62.19831651]\n"
     ]
    }
   ],
   "source": [
    "#@title Double-click to see a possible solution to Task 2.\n",
    "\n",
    "noise = (np.random.random([15]) * 4) - 2\n",
    "print(noise)\n",
    "label = label + noise \n",
    "print(label)"
   ]
  },
  {
   "cell_type": "markdown",
   "id": "497269d4",
   "metadata": {},
   "source": [
    "# task 3 \n",
    "create a numpy array with 20 examples and 2 features where each value is  a random float in [-10,10](inclusive) range\n",
    "create a label for each example such taht each label is twice the sum of features. \n"
   ]
  },
  {
   "cell_type": "code",
   "execution_count": 11,
   "id": "878c7b5f",
   "metadata": {},
   "outputs": [
    {
     "name": "stdout",
     "output_type": "stream",
     "text": [
      "[[ 9.75328805  7.01618927]\n",
      " [ 4.83527259  0.80829998]\n",
      " [-0.23770174  9.98001248]\n",
      " [ 5.59496722 -6.14538637]\n",
      " [-2.86872001 -6.92863291]\n",
      " [-6.70348951 -1.34303598]\n",
      " [ 0.8427846  -4.46729032]\n",
      " [ 5.26051431 -0.26240609]\n",
      " [-8.68130994  1.73537857]\n",
      " [ 7.03352398  6.59532564]\n",
      " [ 2.48896764 -0.30336761]\n",
      " [-0.54151582 -7.79991089]\n",
      " [-5.41249184 -3.92771012]\n",
      " [-1.51155124  7.8085607 ]\n",
      " [-4.78435437  8.5088224 ]\n",
      " [-9.50256789 -9.14019161]\n",
      " [ 8.23136784 -6.20867555]\n",
      " [-0.34413285  7.19077483]\n",
      " [ 5.26128372 -3.68741256]\n",
      " [ 0.1970662   3.45867111]]\n",
      "[ 9.75328805  4.83527259 -0.23770174  5.59496722 -2.86872001 -6.70348951\n",
      "  0.8427846   5.26051431 -8.68130994  7.03352398  2.48896764 -0.54151582\n",
      " -5.41249184 -1.51155124 -4.78435437 -9.50256789  8.23136784 -0.34413285\n",
      "  5.26128372  0.1970662 ]\n",
      "[ 7.01618927  0.80829998  9.98001248 -6.14538637 -6.92863291 -1.34303598\n",
      " -4.46729032 -0.26240609  1.73537857  6.59532564 -0.30336761 -7.79991089\n",
      " -3.92771012  7.8085607   8.5088224  -9.14019161 -6.20867555  7.19077483\n",
      " -3.68741256  3.45867111]\n",
      "[ 33.53895464  11.28714513  19.4846215   -1.10083829 -19.59470583\n",
      " -16.09305097  -7.24901145   9.99621645 -13.89186273  27.25769925\n",
      "   4.37120006 -16.68285341 -18.68040392  12.59401892   7.44893605\n",
      " -37.285519     4.04538458  13.69328396   3.14774232   7.31147462]\n"
     ]
    }
   ],
   "source": [
    "import numpy as np \n",
    "feat = (np.random.random([20,2]) * 20 ) - 10\n",
    "print(feat)\n",
    "feature1= (feat[ :,0])\n",
    "print (feature1)\n",
    "feature2 = (feat[ :,1])\n",
    "print (feature2)\n",
    "sumx = (feature1+feature2)*2\n",
    "print (sumx)\n"
   ]
  },
  {
   "cell_type": "code",
   "execution_count": 12,
   "id": "57f9c9d7",
   "metadata": {},
   "outputs": [
    {
     "data": {
      "image/png": "[encoded data removed]",
      "text/plain": [
       "<Figure size 432x288 with 1 Axes>"
      ]
     },
     "metadata": {
      "needs_background": "light"
     },
     "output_type": "display_data"
    }
   ],
   "source": [
    "import matplotlib.pyplot as plt\n",
    "plt.scatter(feature1,sumx)\n",
    "plt.scatter(feature2,sumx)\n",
    "plt.show()\n"
   ]
  }
 ],
 "metadata": {
  "kernelspec": {
   "display_name": "Python 3 (ipykernel)",
   "language": "python",
   "name": "python3"
  },
  "language_info": {
   "codemirror_mode": {
    "name": "ipython",
    "version": 3
   },
   "file_extension": ".py",
   "mimetype": "text/x-python",
   "name": "python",
   "nbconvert_exporter": "python",
   "pygments_lexer": "ipython3",
   "version": "3.9.12"
  }
 },
 "nbformat": 4,
 "nbformat_minor": 5
}
