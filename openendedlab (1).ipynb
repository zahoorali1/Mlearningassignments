{
 "cells": [
  {
   "cell_type": "markdown",
   "id": "4f5626ed",
   "metadata": {},
   "source": [
    "# Credit Card Fraud Detection\n",
    "## Open-ended Lab"
   ]
  },
  {
   "cell_type": "markdown",
   "id": "8b10440d",
   "metadata": {},
   "source": [
    "#### In this Lab you will utilize your machine learning (ML) modeling skills by using classification model of your choice to recognize fraudulent credit card transactions"
   ]
  },
  {
   "cell_type": "markdown",
   "id": "52aa781e",
   "metadata": {},
   "source": [
    "You will use a real dataset to train each of these models. The dataset includes information about transactions made by credit cards in September 2013 by European cardholders. You will use the trained model to assess if a credit card transaction is legitimate or not."
   ]
  },
  {
   "cell_type": "markdown",
   "id": "e0b0f2f8",
   "metadata": {},
   "source": [
    "<div id=\"Introduction\">\n",
    "    <h2>Introduction</h2>\n",
    "    <br>Imagine that you work for a financial institution and part of your job is to build a model that predicts if a credit card transaction is fraudulent or not. You can model the problem as a binary classification problem. A transaction belongs to the positive class (1) if it is a fraud, otherwise it belongs to the negative class (0).\n",
    "    <br>\n",
    "    <br>You have access to transactions that occured over a certain period of time. The majority of the transactions are normally legitimate and only a small fraction are non-legitimate. Thus, typically you have access to a dataset that is highly unbalanced. This is also the case of the current dataset: only 492 transactions out of 284,807 are fraudulent (the positive class - the frauds - accounts for 0.172% of all transactions).\n",
    "    <br>\n",
    "    <br>To train the model you can use part of the input dataset and the remaining data can be used to assess the quality of the trained model. First, let's download the dataset.\n",
    "    <br>\n",
    "</div>\n"
   ]
  },
  {
   "cell_type": "markdown",
   "id": "1bef4e52",
   "metadata": {},
   "source": [
    "#### To get your kaggle credentials for download, follow the instructions here. http://bit.ly/kaggle-creds"
   ]
  },
  {
   "cell_type": "code",
   "execution_count": 1,
   "id": "83ff72d6",
   "metadata": {},
   "outputs": [
    {
     "name": "stdout",
     "output_type": "stream",
     "text": [
      "Collecting opendatasets\n",
      "  Downloading opendatasets-0.1.22-py3-none-any.whl (15 kB)\n",
      "Requirement already satisfied: click in c:\\users\\buitems\\anaconda3\\lib\\site-packages (from opendatasets) (8.0.4)\n",
      "Requirement already satisfied: tqdm in c:\\users\\buitems\\anaconda3\\lib\\site-packages (from opendatasets) (4.64.0)\n",
      "Collecting kaggle\n",
      "  Downloading kaggle-1.5.12.tar.gz (58 kB)\n",
      "Requirement already satisfied: colorama in c:\\users\\buitems\\anaconda3\\lib\\site-packages (from click->opendatasets) (0.4.4)\n",
      "Requirement already satisfied: six>=1.10 in c:\\users\\buitems\\anaconda3\\lib\\site-packages (from kaggle->opendatasets) (1.16.0)\n",
      "Requirement already satisfied: certifi in c:\\users\\buitems\\anaconda3\\lib\\site-packages (from kaggle->opendatasets) (2021.10.8)\n",
      "Requirement already satisfied: python-dateutil in c:\\users\\buitems\\anaconda3\\lib\\site-packages (from kaggle->opendatasets) (2.8.2)\n",
      "Requirement already satisfied: requests in c:\\users\\buitems\\anaconda3\\lib\\site-packages (from kaggle->opendatasets) (2.27.1)\n",
      "Requirement already satisfied: python-slugify in c:\\users\\buitems\\anaconda3\\lib\\site-packages (from kaggle->opendatasets) (5.0.2)\n",
      "Requirement already satisfied: urllib3 in c:\\users\\buitems\\anaconda3\\lib\\site-packages (from kaggle->opendatasets) (1.26.9)\n",
      "Requirement already satisfied: text-unidecode>=1.3 in c:\\users\\buitems\\anaconda3\\lib\\site-packages (from python-slugify->kaggle->opendatasets) (1.3)\n",
      "Requirement already satisfied: idna<4,>=2.5 in c:\\users\\buitems\\anaconda3\\lib\\site-packages (from requests->kaggle->opendatasets) (3.3)\n",
      "Requirement already satisfied: charset-normalizer~=2.0.0 in c:\\users\\buitems\\anaconda3\\lib\\site-packages (from requests->kaggle->opendatasets) (2.0.4)\n",
      "Building wheels for collected packages: kaggle\n",
      "  Building wheel for kaggle (setup.py): started\n",
      "  Building wheel for kaggle (setup.py): finished with status 'done'\n",
      "  Created wheel for kaggle: filename=kaggle-1.5.12-py3-none-any.whl size=73049 sha256=9fb2292dd80ec2c38770331f661fe05e38b126473c33e0e9b7c5aa01932bdafd\n",
      "  Stored in directory: c:\\users\\buitems\\appdata\\local\\pip\\cache\\wheels\\ac\\b2\\c3\\fa4706d469b5879105991d1c8be9a3c2ef329ba9fe2ce5085e\n",
      "Successfully built kaggle\n",
      "Installing collected packages: kaggle, opendatasets\n",
      "Successfully installed kaggle-1.5.12 opendatasets-0.1.22\n",
      "Please provide your Kaggle credentials to download this dataset. Learn more: http://bit.ly/kaggle-creds\n",
      "Your Kaggle username:"
     ]
    },
    {
     "ename": "Abort",
     "evalue": "",
     "output_type": "error",
     "traceback": [
      "\u001b[1;31m---------------------------------------------------------------------------\u001b[0m",
      "\u001b[1;31mAbort\u001b[0m                                     Traceback (most recent call last)",
      "Input \u001b[1;32mIn [1]\u001b[0m, in \u001b[0;36m<cell line: 8>\u001b[1;34m()\u001b[0m\n\u001b[0;32m      4\u001b[0m \u001b[38;5;28;01mimport\u001b[39;00m \u001b[38;5;21;01mopendatasets\u001b[39;00m \u001b[38;5;28;01mas\u001b[39;00m \u001b[38;5;21;01mod\u001b[39;00m\n\u001b[0;32m      6\u001b[0m \u001b[38;5;66;03m# download the dataset (this is a Kaggle dataset)\u001b[39;00m\n\u001b[0;32m      7\u001b[0m \u001b[38;5;66;03m# during download you will be required to input your Kaggle username and password\u001b[39;00m\n\u001b[1;32m----> 8\u001b[0m \u001b[43mod\u001b[49m\u001b[38;5;241;43m.\u001b[39;49m\u001b[43mdownload\u001b[49m\u001b[43m(\u001b[49m\u001b[38;5;124;43m\"\u001b[39;49m\u001b[38;5;124;43mhttps://www.kaggle.com/mlg-ulb/creditcardfraud\u001b[39;49m\u001b[38;5;124;43m\"\u001b[39;49m\u001b[43m)\u001b[49m\n",
      "File \u001b[1;32m~\\anaconda3\\lib\\site-packages\\opendatasets\\__init__.py:13\u001b[0m, in \u001b[0;36mdownload\u001b[1;34m(dataset_id_or_url, data_dir, force, dry_run, **kwargs)\u001b[0m\n\u001b[0;32m     10\u001b[0m \u001b[38;5;28;01mdef\u001b[39;00m \u001b[38;5;21mdownload\u001b[39m(dataset_id_or_url, data_dir\u001b[38;5;241m=\u001b[39m\u001b[38;5;124m'\u001b[39m\u001b[38;5;124m.\u001b[39m\u001b[38;5;124m'\u001b[39m, force\u001b[38;5;241m=\u001b[39m\u001b[38;5;28;01mFalse\u001b[39;00m, dry_run\u001b[38;5;241m=\u001b[39m\u001b[38;5;28;01mFalse\u001b[39;00m, \u001b[38;5;241m*\u001b[39m\u001b[38;5;241m*\u001b[39mkwargs):\n\u001b[0;32m     11\u001b[0m     \u001b[38;5;66;03m# Check for a Kaggle dataset URL\u001b[39;00m\n\u001b[0;32m     12\u001b[0m     \u001b[38;5;28;01mif\u001b[39;00m is_kaggle_url(dataset_id_or_url):\n\u001b[1;32m---> 13\u001b[0m         \u001b[38;5;28;01mreturn\u001b[39;00m \u001b[43mdownload_kaggle_dataset\u001b[49m\u001b[43m(\u001b[49m\u001b[43mdataset_id_or_url\u001b[49m\u001b[43m,\u001b[49m\u001b[43m \u001b[49m\u001b[43mdata_dir\u001b[49m\u001b[38;5;241;43m=\u001b[39;49m\u001b[43mdata_dir\u001b[49m\u001b[43m,\u001b[49m\u001b[43m \u001b[49m\u001b[43mforce\u001b[49m\u001b[38;5;241;43m=\u001b[39;49m\u001b[43mforce\u001b[49m\u001b[43m,\u001b[49m\u001b[43m \u001b[49m\u001b[43mdry_run\u001b[49m\u001b[38;5;241;43m=\u001b[39;49m\u001b[43mdry_run\u001b[49m\u001b[43m)\u001b[49m\n\u001b[0;32m     15\u001b[0m     \u001b[38;5;66;03m# Check for Google Drive URL\u001b[39;00m\n\u001b[0;32m     16\u001b[0m     \u001b[38;5;28;01mif\u001b[39;00m is_google_drive_url(dataset_id_or_url):\n",
      "File \u001b[1;32m~\\anaconda3\\lib\\site-packages\\opendatasets\\utils\\kaggle_api.py:46\u001b[0m, in \u001b[0;36mdownload_kaggle_dataset\u001b[1;34m(dataset_url, data_dir, force, dry_run)\u001b[0m\n\u001b[0;32m     44\u001b[0m \u001b[38;5;28;01mif\u001b[39;00m \u001b[38;5;129;01mnot\u001b[39;00m read_kaggle_creds():\n\u001b[0;32m     45\u001b[0m     \u001b[38;5;28mprint\u001b[39m(\u001b[38;5;124m\"\u001b[39m\u001b[38;5;124mPlease provide your Kaggle credentials to download this dataset. Learn more: http://bit.ly/kaggle-creds\u001b[39m\u001b[38;5;124m\"\u001b[39m)\n\u001b[1;32m---> 46\u001b[0m     os\u001b[38;5;241m.\u001b[39menviron[\u001b[38;5;124m'\u001b[39m\u001b[38;5;124mKAGGLE_USERNAME\u001b[39m\u001b[38;5;124m'\u001b[39m] \u001b[38;5;241m=\u001b[39m \u001b[43mclick\u001b[49m\u001b[38;5;241;43m.\u001b[39;49m\u001b[43mprompt\u001b[49m\u001b[43m(\u001b[49m\u001b[38;5;124;43m\"\u001b[39;49m\u001b[38;5;124;43mYour Kaggle username\u001b[39;49m\u001b[38;5;124;43m\"\u001b[39;49m\u001b[43m)\u001b[49m\n\u001b[0;32m     47\u001b[0m     os\u001b[38;5;241m.\u001b[39menviron[\u001b[38;5;124m'\u001b[39m\u001b[38;5;124mKAGGLE_KEY\u001b[39m\u001b[38;5;124m'\u001b[39m] \u001b[38;5;241m=\u001b[39m _get_kaggle_key()\n\u001b[0;32m     49\u001b[0m \u001b[38;5;28;01mif\u001b[39;00m \u001b[38;5;129;01mnot\u001b[39;00m dry_run:\n",
      "File \u001b[1;32m~\\anaconda3\\lib\\site-packages\\click\\termui.py:166\u001b[0m, in \u001b[0;36mprompt\u001b[1;34m(text, default, hide_input, confirmation_prompt, type, value_proc, prompt_suffix, show_default, err, show_choices)\u001b[0m\n\u001b[0;32m    164\u001b[0m \u001b[38;5;28;01mwhile\u001b[39;00m \u001b[38;5;28;01mTrue\u001b[39;00m:\n\u001b[0;32m    165\u001b[0m     \u001b[38;5;28;01mwhile\u001b[39;00m \u001b[38;5;28;01mTrue\u001b[39;00m:\n\u001b[1;32m--> 166\u001b[0m         value \u001b[38;5;241m=\u001b[39m \u001b[43mprompt_func\u001b[49m\u001b[43m(\u001b[49m\u001b[43mprompt\u001b[49m\u001b[43m)\u001b[49m\n\u001b[0;32m    167\u001b[0m         \u001b[38;5;28;01mif\u001b[39;00m value:\n\u001b[0;32m    168\u001b[0m             \u001b[38;5;28;01mbreak\u001b[39;00m\n",
      "File \u001b[1;32m~\\anaconda3\\lib\\site-packages\\click\\termui.py:149\u001b[0m, in \u001b[0;36mprompt.<locals>.prompt_func\u001b[1;34m(text)\u001b[0m\n\u001b[0;32m    147\u001b[0m \u001b[38;5;28;01mif\u001b[39;00m hide_input:\n\u001b[0;32m    148\u001b[0m     echo(\u001b[38;5;28;01mNone\u001b[39;00m, err\u001b[38;5;241m=\u001b[39merr)\n\u001b[1;32m--> 149\u001b[0m \u001b[38;5;28;01mraise\u001b[39;00m Abort() \u001b[38;5;28;01mfrom\u001b[39;00m \u001b[38;5;28mNone\u001b[39m\n",
      "\u001b[1;31mAbort\u001b[0m: "
     ]
    }
   ],
   "source": [
    "# install the opendatasets package\n",
    "!pip install opendatasets\n",
    "\n",
    "import opendatasets as od\n",
    "\n",
    "# download the dataset (this is a Kaggle dataset)\n",
    "# during download you will be required to input your Kaggle username and password\n",
    "od.download(\"https://www.kaggle.com/mlg-ulb/creditcardfraud\")"
   ]
  },
  {
   "cell_type": "markdown",
   "id": "8259c144",
   "metadata": {},
   "source": [
    "<div id=\"import_libraries\">\n",
    "    <h2>Import Libraries</h2>\n",
    "</div>\n"
   ]
  },
  {
   "cell_type": "code",
   "execution_count": 49,
   "id": "73e22d5b",
   "metadata": {},
   "outputs": [],
   "source": [
    "# Import the libraries we need to use in this lab\n",
    "from __future__ import print_function\n",
    "import numpy as np\n",
    "import pandas as pd\n",
    "import matplotlib.pyplot as plt\n",
    "%matplotlib inline\n",
    "from sklearn.model_selection import train_test_split\n",
    "from sklearn.preprocessing import normalize, StandardScaler\n",
    "from sklearn.utils.class_weight import compute_sample_weight\n",
    "from sklearn.metrics import roc_auc_score\n",
    "import seaborn as sns\n",
    "import time\n",
    "import warnings\n",
    "warnings.filterwarnings('ignore')"
   ]
  },
  {
   "cell_type": "markdown",
   "id": "312bb642",
   "metadata": {},
   "source": [
    "<div id=\"dataset_analysis\">\n",
    "    <h2>Dataset Analysis</h2>\n",
    "</div>\n",
    "\n",
    "In this section you will read the dataset in a Pandas dataframe and visualize its content. You will also look at some data statistics. \n",
    "https://pandas.pydata.org/docs/reference/api/pandas.DataFrame.html. \n"
   ]
  },
  {
   "cell_type": "code",
   "execution_count": 50,
   "id": "8ae6060b",
   "metadata": {},
   "outputs": [
    {
     "name": "stdout",
     "output_type": "stream",
     "text": [
      "There are 284807 observations in the credit card fraud dataset.\n",
      "There are 31 variables in the dataset.\n"
     ]
    },
    {
     "data": {
      "text/html": [
       "<div>\n",
       "<style scoped>\n",
       "    .dataframe tbody tr th:only-of-type {\n",
       "        vertical-align: middle;\n",
       "    }\n",
       "\n",
       "    .dataframe tbody tr th {\n",
       "        vertical-align: top;\n",
       "    }\n",
       "\n",
       "    .dataframe thead th {\n",
       "        text-align: right;\n",
       "    }\n",
       "</style>\n",
       "<table border=\"1\" class=\"dataframe\">\n",
       "  <thead>\n",
       "    <tr style=\"text-align: right;\">\n",
       "      <th></th>\n",
       "      <th>Time</th>\n",
       "      <th>V1</th>\n",
       "      <th>V2</th>\n",
       "      <th>V3</th>\n",
       "      <th>V4</th>\n",
       "      <th>V5</th>\n",
       "      <th>V6</th>\n",
       "      <th>V7</th>\n",
       "      <th>V8</th>\n",
       "      <th>V9</th>\n",
       "      <th>...</th>\n",
       "      <th>V21</th>\n",
       "      <th>V22</th>\n",
       "      <th>V23</th>\n",
       "      <th>V24</th>\n",
       "      <th>V25</th>\n",
       "      <th>V26</th>\n",
       "      <th>V27</th>\n",
       "      <th>V28</th>\n",
       "      <th>Amount</th>\n",
       "      <th>Class</th>\n",
       "    </tr>\n",
       "  </thead>\n",
       "  <tbody>\n",
       "    <tr>\n",
       "      <th>0</th>\n",
       "      <td>0.0</td>\n",
       "      <td>-1.359807</td>\n",
       "      <td>-0.072781</td>\n",
       "      <td>2.536347</td>\n",
       "      <td>1.378155</td>\n",
       "      <td>-0.338321</td>\n",
       "      <td>0.462388</td>\n",
       "      <td>0.239599</td>\n",
       "      <td>0.098698</td>\n",
       "      <td>0.363787</td>\n",
       "      <td>...</td>\n",
       "      <td>-0.018307</td>\n",
       "      <td>0.277838</td>\n",
       "      <td>-0.110474</td>\n",
       "      <td>0.066928</td>\n",
       "      <td>0.128539</td>\n",
       "      <td>-0.189115</td>\n",
       "      <td>0.133558</td>\n",
       "      <td>-0.021053</td>\n",
       "      <td>149.62</td>\n",
       "      <td>0</td>\n",
       "    </tr>\n",
       "    <tr>\n",
       "      <th>1</th>\n",
       "      <td>0.0</td>\n",
       "      <td>1.191857</td>\n",
       "      <td>0.266151</td>\n",
       "      <td>0.166480</td>\n",
       "      <td>0.448154</td>\n",
       "      <td>0.060018</td>\n",
       "      <td>-0.082361</td>\n",
       "      <td>-0.078803</td>\n",
       "      <td>0.085102</td>\n",
       "      <td>-0.255425</td>\n",
       "      <td>...</td>\n",
       "      <td>-0.225775</td>\n",
       "      <td>-0.638672</td>\n",
       "      <td>0.101288</td>\n",
       "      <td>-0.339846</td>\n",
       "      <td>0.167170</td>\n",
       "      <td>0.125895</td>\n",
       "      <td>-0.008983</td>\n",
       "      <td>0.014724</td>\n",
       "      <td>2.69</td>\n",
       "      <td>0</td>\n",
       "    </tr>\n",
       "    <tr>\n",
       "      <th>2</th>\n",
       "      <td>1.0</td>\n",
       "      <td>-1.358354</td>\n",
       "      <td>-1.340163</td>\n",
       "      <td>1.773209</td>\n",
       "      <td>0.379780</td>\n",
       "      <td>-0.503198</td>\n",
       "      <td>1.800499</td>\n",
       "      <td>0.791461</td>\n",
       "      <td>0.247676</td>\n",
       "      <td>-1.514654</td>\n",
       "      <td>...</td>\n",
       "      <td>0.247998</td>\n",
       "      <td>0.771679</td>\n",
       "      <td>0.909412</td>\n",
       "      <td>-0.689281</td>\n",
       "      <td>-0.327642</td>\n",
       "      <td>-0.139097</td>\n",
       "      <td>-0.055353</td>\n",
       "      <td>-0.059752</td>\n",
       "      <td>378.66</td>\n",
       "      <td>0</td>\n",
       "    </tr>\n",
       "    <tr>\n",
       "      <th>3</th>\n",
       "      <td>1.0</td>\n",
       "      <td>-0.966272</td>\n",
       "      <td>-0.185226</td>\n",
       "      <td>1.792993</td>\n",
       "      <td>-0.863291</td>\n",
       "      <td>-0.010309</td>\n",
       "      <td>1.247203</td>\n",
       "      <td>0.237609</td>\n",
       "      <td>0.377436</td>\n",
       "      <td>-1.387024</td>\n",
       "      <td>...</td>\n",
       "      <td>-0.108300</td>\n",
       "      <td>0.005274</td>\n",
       "      <td>-0.190321</td>\n",
       "      <td>-1.175575</td>\n",
       "      <td>0.647376</td>\n",
       "      <td>-0.221929</td>\n",
       "      <td>0.062723</td>\n",
       "      <td>0.061458</td>\n",
       "      <td>123.50</td>\n",
       "      <td>0</td>\n",
       "    </tr>\n",
       "    <tr>\n",
       "      <th>4</th>\n",
       "      <td>2.0</td>\n",
       "      <td>-1.158233</td>\n",
       "      <td>0.877737</td>\n",
       "      <td>1.548718</td>\n",
       "      <td>0.403034</td>\n",
       "      <td>-0.407193</td>\n",
       "      <td>0.095921</td>\n",
       "      <td>0.592941</td>\n",
       "      <td>-0.270533</td>\n",
       "      <td>0.817739</td>\n",
       "      <td>...</td>\n",
       "      <td>-0.009431</td>\n",
       "      <td>0.798278</td>\n",
       "      <td>-0.137458</td>\n",
       "      <td>0.141267</td>\n",
       "      <td>-0.206010</td>\n",
       "      <td>0.502292</td>\n",
       "      <td>0.219422</td>\n",
       "      <td>0.215153</td>\n",
       "      <td>69.99</td>\n",
       "      <td>0</td>\n",
       "    </tr>\n",
       "  </tbody>\n",
       "</table>\n",
       "<p>5 rows × 31 columns</p>\n",
       "</div>"
      ],
      "text/plain": [
       "   Time        V1        V2        V3        V4        V5        V6        V7  \\\n",
       "0   0.0 -1.359807 -0.072781  2.536347  1.378155 -0.338321  0.462388  0.239599   \n",
       "1   0.0  1.191857  0.266151  0.166480  0.448154  0.060018 -0.082361 -0.078803   \n",
       "2   1.0 -1.358354 -1.340163  1.773209  0.379780 -0.503198  1.800499  0.791461   \n",
       "3   1.0 -0.966272 -0.185226  1.792993 -0.863291 -0.010309  1.247203  0.237609   \n",
       "4   2.0 -1.158233  0.877737  1.548718  0.403034 -0.407193  0.095921  0.592941   \n",
       "\n",
       "         V8        V9  ...       V21       V22       V23       V24       V25  \\\n",
       "0  0.098698  0.363787  ... -0.018307  0.277838 -0.110474  0.066928  0.128539   \n",
       "1  0.085102 -0.255425  ... -0.225775 -0.638672  0.101288 -0.339846  0.167170   \n",
       "2  0.247676 -1.514654  ...  0.247998  0.771679  0.909412 -0.689281 -0.327642   \n",
       "3  0.377436 -1.387024  ... -0.108300  0.005274 -0.190321 -1.175575  0.647376   \n",
       "4 -0.270533  0.817739  ... -0.009431  0.798278 -0.137458  0.141267 -0.206010   \n",
       "\n",
       "        V26       V27       V28  Amount  Class  \n",
       "0 -0.189115  0.133558 -0.021053  149.62      0  \n",
       "1  0.125895 -0.008983  0.014724    2.69      0  \n",
       "2 -0.139097 -0.055353 -0.059752  378.66      0  \n",
       "3 -0.221929  0.062723  0.061458  123.50      0  \n",
       "4  0.502292  0.219422  0.215153   69.99      0  \n",
       "\n",
       "[5 rows x 31 columns]"
      ]
     },
     "execution_count": 50,
     "metadata": {},
     "output_type": "execute_result"
    }
   ],
   "source": [
    "# read the input data\n",
    "raw_data = pd.read_csv('creditcard.csv')\n",
    "print(\"There are \" + str(len(raw_data)) + \" observations in the credit card fraud dataset.\")\n",
    "print(\"There are \" + str(len(raw_data.columns)) + \" variables in the dataset.\")\n",
    "\n",
    "# display the first rows in the dataset\n",
    "raw_data.head()"
   ]
  },
  {
   "cell_type": "markdown",
   "id": "21c6da63",
   "metadata": {},
   "source": [
    "In practice, a financial institution may have access to a much larger dataset of transactions. To simulate such a case, we will inflate the original one 10 times.\n"
   ]
  },
  {
   "cell_type": "code",
   "execution_count": 51,
   "id": "ed17ac87",
   "metadata": {},
   "outputs": [
    {
     "name": "stdout",
     "output_type": "stream",
     "text": [
      "There are 2848070 observations in the inflated credit card fraud dataset.\n",
      "There are 31 variables in the dataset.\n"
     ]
    },
    {
     "data": {
      "text/html": [
       "<div>\n",
       "<style scoped>\n",
       "    .dataframe tbody tr th:only-of-type {\n",
       "        vertical-align: middle;\n",
       "    }\n",
       "\n",
       "    .dataframe tbody tr th {\n",
       "        vertical-align: top;\n",
       "    }\n",
       "\n",
       "    .dataframe thead th {\n",
       "        text-align: right;\n",
       "    }\n",
       "</style>\n",
       "<table border=\"1\" class=\"dataframe\">\n",
       "  <thead>\n",
       "    <tr style=\"text-align: right;\">\n",
       "      <th></th>\n",
       "      <th>Time</th>\n",
       "      <th>V1</th>\n",
       "      <th>V2</th>\n",
       "      <th>V3</th>\n",
       "      <th>V4</th>\n",
       "      <th>V5</th>\n",
       "      <th>V6</th>\n",
       "      <th>V7</th>\n",
       "      <th>V8</th>\n",
       "      <th>V9</th>\n",
       "      <th>...</th>\n",
       "      <th>V21</th>\n",
       "      <th>V22</th>\n",
       "      <th>V23</th>\n",
       "      <th>V24</th>\n",
       "      <th>V25</th>\n",
       "      <th>V26</th>\n",
       "      <th>V27</th>\n",
       "      <th>V28</th>\n",
       "      <th>Amount</th>\n",
       "      <th>Class</th>\n",
       "    </tr>\n",
       "  </thead>\n",
       "  <tbody>\n",
       "    <tr>\n",
       "      <th>0</th>\n",
       "      <td>0.0</td>\n",
       "      <td>-1.359807</td>\n",
       "      <td>-0.072781</td>\n",
       "      <td>2.536347</td>\n",
       "      <td>1.378155</td>\n",
       "      <td>-0.338321</td>\n",
       "      <td>0.462388</td>\n",
       "      <td>0.239599</td>\n",
       "      <td>0.098698</td>\n",
       "      <td>0.363787</td>\n",
       "      <td>...</td>\n",
       "      <td>-0.018307</td>\n",
       "      <td>0.277838</td>\n",
       "      <td>-0.110474</td>\n",
       "      <td>0.066928</td>\n",
       "      <td>0.128539</td>\n",
       "      <td>-0.189115</td>\n",
       "      <td>0.133558</td>\n",
       "      <td>-0.021053</td>\n",
       "      <td>149.62</td>\n",
       "      <td>0.0</td>\n",
       "    </tr>\n",
       "    <tr>\n",
       "      <th>1</th>\n",
       "      <td>0.0</td>\n",
       "      <td>-1.359807</td>\n",
       "      <td>-0.072781</td>\n",
       "      <td>2.536347</td>\n",
       "      <td>1.378155</td>\n",
       "      <td>-0.338321</td>\n",
       "      <td>0.462388</td>\n",
       "      <td>0.239599</td>\n",
       "      <td>0.098698</td>\n",
       "      <td>0.363787</td>\n",
       "      <td>...</td>\n",
       "      <td>-0.018307</td>\n",
       "      <td>0.277838</td>\n",
       "      <td>-0.110474</td>\n",
       "      <td>0.066928</td>\n",
       "      <td>0.128539</td>\n",
       "      <td>-0.189115</td>\n",
       "      <td>0.133558</td>\n",
       "      <td>-0.021053</td>\n",
       "      <td>149.62</td>\n",
       "      <td>0.0</td>\n",
       "    </tr>\n",
       "    <tr>\n",
       "      <th>2</th>\n",
       "      <td>0.0</td>\n",
       "      <td>-1.359807</td>\n",
       "      <td>-0.072781</td>\n",
       "      <td>2.536347</td>\n",
       "      <td>1.378155</td>\n",
       "      <td>-0.338321</td>\n",
       "      <td>0.462388</td>\n",
       "      <td>0.239599</td>\n",
       "      <td>0.098698</td>\n",
       "      <td>0.363787</td>\n",
       "      <td>...</td>\n",
       "      <td>-0.018307</td>\n",
       "      <td>0.277838</td>\n",
       "      <td>-0.110474</td>\n",
       "      <td>0.066928</td>\n",
       "      <td>0.128539</td>\n",
       "      <td>-0.189115</td>\n",
       "      <td>0.133558</td>\n",
       "      <td>-0.021053</td>\n",
       "      <td>149.62</td>\n",
       "      <td>0.0</td>\n",
       "    </tr>\n",
       "    <tr>\n",
       "      <th>3</th>\n",
       "      <td>0.0</td>\n",
       "      <td>-1.359807</td>\n",
       "      <td>-0.072781</td>\n",
       "      <td>2.536347</td>\n",
       "      <td>1.378155</td>\n",
       "      <td>-0.338321</td>\n",
       "      <td>0.462388</td>\n",
       "      <td>0.239599</td>\n",
       "      <td>0.098698</td>\n",
       "      <td>0.363787</td>\n",
       "      <td>...</td>\n",
       "      <td>-0.018307</td>\n",
       "      <td>0.277838</td>\n",
       "      <td>-0.110474</td>\n",
       "      <td>0.066928</td>\n",
       "      <td>0.128539</td>\n",
       "      <td>-0.189115</td>\n",
       "      <td>0.133558</td>\n",
       "      <td>-0.021053</td>\n",
       "      <td>149.62</td>\n",
       "      <td>0.0</td>\n",
       "    </tr>\n",
       "    <tr>\n",
       "      <th>4</th>\n",
       "      <td>0.0</td>\n",
       "      <td>-1.359807</td>\n",
       "      <td>-0.072781</td>\n",
       "      <td>2.536347</td>\n",
       "      <td>1.378155</td>\n",
       "      <td>-0.338321</td>\n",
       "      <td>0.462388</td>\n",
       "      <td>0.239599</td>\n",
       "      <td>0.098698</td>\n",
       "      <td>0.363787</td>\n",
       "      <td>...</td>\n",
       "      <td>-0.018307</td>\n",
       "      <td>0.277838</td>\n",
       "      <td>-0.110474</td>\n",
       "      <td>0.066928</td>\n",
       "      <td>0.128539</td>\n",
       "      <td>-0.189115</td>\n",
       "      <td>0.133558</td>\n",
       "      <td>-0.021053</td>\n",
       "      <td>149.62</td>\n",
       "      <td>0.0</td>\n",
       "    </tr>\n",
       "  </tbody>\n",
       "</table>\n",
       "<p>5 rows × 31 columns</p>\n",
       "</div>"
      ],
      "text/plain": [
       "   Time        V1        V2        V3        V4        V5        V6        V7  \\\n",
       "0   0.0 -1.359807 -0.072781  2.536347  1.378155 -0.338321  0.462388  0.239599   \n",
       "1   0.0 -1.359807 -0.072781  2.536347  1.378155 -0.338321  0.462388  0.239599   \n",
       "2   0.0 -1.359807 -0.072781  2.536347  1.378155 -0.338321  0.462388  0.239599   \n",
       "3   0.0 -1.359807 -0.072781  2.536347  1.378155 -0.338321  0.462388  0.239599   \n",
       "4   0.0 -1.359807 -0.072781  2.536347  1.378155 -0.338321  0.462388  0.239599   \n",
       "\n",
       "         V8        V9  ...       V21       V22       V23       V24       V25  \\\n",
       "0  0.098698  0.363787  ... -0.018307  0.277838 -0.110474  0.066928  0.128539   \n",
       "1  0.098698  0.363787  ... -0.018307  0.277838 -0.110474  0.066928  0.128539   \n",
       "2  0.098698  0.363787  ... -0.018307  0.277838 -0.110474  0.066928  0.128539   \n",
       "3  0.098698  0.363787  ... -0.018307  0.277838 -0.110474  0.066928  0.128539   \n",
       "4  0.098698  0.363787  ... -0.018307  0.277838 -0.110474  0.066928  0.128539   \n",
       "\n",
       "        V26       V27       V28  Amount  Class  \n",
       "0 -0.189115  0.133558 -0.021053  149.62    0.0  \n",
       "1 -0.189115  0.133558 -0.021053  149.62    0.0  \n",
       "2 -0.189115  0.133558 -0.021053  149.62    0.0  \n",
       "3 -0.189115  0.133558 -0.021053  149.62    0.0  \n",
       "4 -0.189115  0.133558 -0.021053  149.62    0.0  \n",
       "\n",
       "[5 rows x 31 columns]"
      ]
     },
     "execution_count": 51,
     "metadata": {},
     "output_type": "execute_result"
    }
   ],
   "source": [
    "n_replicas = 10\n",
    "\n",
    "# inflate the original dataset\n",
    "big_raw_data = pd.DataFrame(np.repeat(raw_data.values, n_replicas, axis=0), columns=raw_data.columns)\n",
    "\n",
    "print(\"There are \" + str(len(big_raw_data)) + \" observations in the inflated credit card fraud dataset.\")\n",
    "print(\"There are \" + str(len(big_raw_data.columns)) + \" variables in the dataset.\")\n",
    "\n",
    "# display first rows in the new dataset\n",
    "big_raw_data.head()"
   ]
  },
  {
   "cell_type": "markdown",
   "id": "dd3677b4",
   "metadata": {},
   "source": [
    "Each row in the dataset represents a credit card transaction. As shown above, each row has 31 variables. One variable (the last variable in the table above) is called Class and represents the target variable. Your objective will be to train a model that uses the other variables to predict the value of the Class variable. Let's first retrieve basic statistics about the target variable.\n",
    "\n",
    "Note: For confidentiality reasons, the original names of most features are anonymized V1, V2 .. V28. The values of these features are the result of a PCA transformation ( dont worry about that for now) and are numerical. The feature 'Class' is the target variable and it takes two values: 1 in case of fraud and 0 otherwise. For more information about the dataset please visit this webpage: https://www.kaggle.com/mlg-ulb/creditcardfraud.\n"
   ]
  },
  {
   "cell_type": "code",
   "execution_count": 52,
   "id": "563dfdb2",
   "metadata": {},
   "outputs": [
    {
     "data": {
      "image/png": "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\n",
      "text/plain": [
       "<Figure size 432x288 with 1 Axes>"
      ]
     },
     "metadata": {},
     "output_type": "display_data"
    }
   ],
   "source": [
    "# get the set of distinct classes\n",
    "labels = big_raw_data.Class.unique()\n",
    "\n",
    "# get the count of each class\n",
    "sizes = big_raw_data.Class.value_counts().values\n",
    "\n",
    "# plot the class value counts\n",
    "fig, ax = plt.subplots()\n",
    "ax.pie(sizes, labels=labels, autopct='%1.3f%%')\n",
    "ax.set_title('Target Variable Value Counts')\n",
    "plt.show()"
   ]
  },
  {
   "cell_type": "code",
   "execution_count": 53,
   "id": "d4eb3f66",
   "metadata": {},
   "outputs": [
    {
     "name": "stdout",
     "output_type": "stream",
     "text": [
      "<class 'pandas.core.frame.DataFrame'>\n",
      "RangeIndex: 2848070 entries, 0 to 2848069\n",
      "Data columns (total 31 columns):\n",
      " #   Column  Dtype  \n",
      "---  ------  -----  \n",
      " 0   Time    float64\n",
      " 1   V1      float64\n",
      " 2   V2      float64\n",
      " 3   V3      float64\n",
      " 4   V4      float64\n",
      " 5   V5      float64\n",
      " 6   V6      float64\n",
      " 7   V7      float64\n",
      " 8   V8      float64\n",
      " 9   V9      float64\n",
      " 10  V10     float64\n",
      " 11  V11     float64\n",
      " 12  V12     float64\n",
      " 13  V13     float64\n",
      " 14  V14     float64\n",
      " 15  V15     float64\n",
      " 16  V16     float64\n",
      " 17  V17     float64\n",
      " 18  V18     float64\n",
      " 19  V19     float64\n",
      " 20  V20     float64\n",
      " 21  V21     float64\n",
      " 22  V22     float64\n",
      " 23  V23     float64\n",
      " 24  V24     float64\n",
      " 25  V25     float64\n",
      " 26  V26     float64\n",
      " 27  V27     float64\n",
      " 28  V28     float64\n",
      " 29  Amount  float64\n",
      " 30  Class   float64\n",
      "dtypes: float64(31)\n",
      "memory usage: 673.6 MB\n"
     ]
    }
   ],
   "source": [
    "big_raw_data.info()"
   ]
  },
  {
   "cell_type": "markdown",
   "id": "5e2dfae9",
   "metadata": {},
   "source": [
    "As shown above, the Class variable has two values: 0 (the credit card transaction is legitimate) and 1 (the credit card transaction is fraudulent). Thus, you need to model a binary classification problem. Moreover, the dataset is highly unbalanced, the target variable classes are not represented equally. This case requires special attention when training or when evaluating the quality of a model. One way of handing this case at train time is to bias the model to pay more attention to the samples in the minority class. The models under the current study will be configured to take into account the class weights of the samples at train/fit time.\n"
   ]
  },
  {
   "cell_type": "markdown",
   "id": "f46f19d2",
   "metadata": {},
   "source": [
    "\n",
    "The credit card transactions have different amounts. plot a histogram that shows the distribution of these amounts? What is the range of these amounts (min/max)? \n",
    "print the percentiles of the amount values?\n"
   ]
  },
  {
   "cell_type": "code",
   "execution_count": 54,
   "id": "73192d53",
   "metadata": {},
   "outputs": [
    {
     "data": {
      "text/plain": [
       "array([[<AxesSubplot:title={'center':'Time'}>,\n",
       "        <AxesSubplot:title={'center':'V1'}>,\n",
       "        <AxesSubplot:title={'center':'V2'}>,\n",
       "        <AxesSubplot:title={'center':'V3'}>,\n",
       "        <AxesSubplot:title={'center':'V4'}>,\n",
       "        <AxesSubplot:title={'center':'V5'}>],\n",
       "       [<AxesSubplot:title={'center':'V6'}>,\n",
       "        <AxesSubplot:title={'center':'V7'}>,\n",
       "        <AxesSubplot:title={'center':'V8'}>,\n",
       "        <AxesSubplot:title={'center':'V9'}>,\n",
       "        <AxesSubplot:title={'center':'V10'}>,\n",
       "        <AxesSubplot:title={'center':'V11'}>],\n",
       "       [<AxesSubplot:title={'center':'V12'}>,\n",
       "        <AxesSubplot:title={'center':'V13'}>,\n",
       "        <AxesSubplot:title={'center':'V14'}>,\n",
       "        <AxesSubplot:title={'center':'V15'}>,\n",
       "        <AxesSubplot:title={'center':'V16'}>,\n",
       "        <AxesSubplot:title={'center':'V17'}>],\n",
       "       [<AxesSubplot:title={'center':'V18'}>,\n",
       "        <AxesSubplot:title={'center':'V19'}>,\n",
       "        <AxesSubplot:title={'center':'V20'}>,\n",
       "        <AxesSubplot:title={'center':'V21'}>,\n",
       "        <AxesSubplot:title={'center':'V22'}>,\n",
       "        <AxesSubplot:title={'center':'V23'}>],\n",
       "       [<AxesSubplot:title={'center':'V24'}>,\n",
       "        <AxesSubplot:title={'center':'V25'}>,\n",
       "        <AxesSubplot:title={'center':'V26'}>,\n",
       "        <AxesSubplot:title={'center':'V27'}>,\n",
       "        <AxesSubplot:title={'center':'V28'}>,\n",
       "        <AxesSubplot:title={'center':'Amount'}>],\n",
       "       [<AxesSubplot:title={'center':'Class'}>, <AxesSubplot:>,\n",
       "        <AxesSubplot:>, <AxesSubplot:>, <AxesSubplot:>, <AxesSubplot:>]],\n",
       "      dtype=object)"
      ]
     },
     "execution_count": 54,
     "metadata": {},
     "output_type": "execute_result"
    },
    {
     "data": {
      "image/png": "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\n",
      "text/plain": [
       "<Figure size 2160x2160 with 36 Axes>"
      ]
     },
     "metadata": {
      "needs_background": "light"
     },
     "output_type": "display_data"
    }
   ],
   "source": [
    "big_raw_data.hist(bins=30, figsize=(30, 30))"
   ]
  },
  {
   "cell_type": "code",
   "execution_count": 55,
   "id": "5928368d",
   "metadata": {},
   "outputs": [
    {
     "data": {
      "text/plain": [
       "<AxesSubplot:xlabel='Amount', ylabel='Density'>"
      ]
     },
     "execution_count": 55,
     "metadata": {},
     "output_type": "execute_result"
    },
    {
     "data": {
      "image/png": "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\n",
      "text/plain": [
       "<Figure size 432x288 with 1 Axes>"
      ]
     },
     "metadata": {
      "needs_background": "light"
     },
     "output_type": "display_data"
    }
   ],
   "source": [
    "sns.distplot(big_raw_data['Amount'])"
   ]
  },
  {
   "cell_type": "code",
   "execution_count": 56,
   "id": "468bd35f",
   "metadata": {},
   "outputs": [
    {
     "name": "stdout",
     "output_type": "stream",
     "text": [
      "25691.16\n",
      "0.0\n",
      "0.0\n",
      "25691.16\n"
     ]
    }
   ],
   "source": [
    "print(big_raw_data['Amount'].max())\n",
    "print(big_raw_data['Amount'].min())\n",
    "print(np.min(big_raw_data['Amount']))\n",
    "print(np.max(big_raw_data['Amount']))"
   ]
  },
  {
   "cell_type": "code",
   "execution_count": 57,
   "id": "0728e5f1",
   "metadata": {},
   "outputs": [
    {
     "name": "stdout",
     "output_type": "stream",
     "text": [
      "203.0\n"
     ]
    }
   ],
   "source": [
    "x = np.percentile(big_raw_data['Amount'], 90)\n",
    "print(x)\n"
   ]
  },
  {
   "cell_type": "code",
   "execution_count": 58,
   "id": "472d521e",
   "metadata": {},
   "outputs": [
    {
     "data": {
      "text/plain": [
       "count    2.848070e+06\n",
       "mean     8.834962e+01\n",
       "std      2.501197e+02\n",
       "min      0.000000e+00\n",
       "25%      5.600000e+00\n",
       "50%      2.200000e+01\n",
       "75%      7.717000e+01\n",
       "max      2.569116e+04\n",
       "Name: Amount, dtype: float64"
      ]
     },
     "execution_count": 58,
     "metadata": {},
     "output_type": "execute_result"
    }
   ],
   "source": [
    "\n",
    "big_raw_data['Amount'].describe()\n",
    "\n",
    "\n",
    "\n",
    "#How to Find Percentiles of Several DataFrame Columns\n",
    "#The following code shows how to find the 95th percentile value for a several columns in a pandas DataFrame:\n",
    "\n",
    "\n",
    "#big_raw_data.quantile(.95)\n"
   ]
  },
  {
   "cell_type": "markdown",
   "id": "8d2484f7",
   "metadata": {},
   "source": [
    "<div id=\"dataset_preprocessing\">\n",
    "    <h2>Dataset Preprocessing</h2>\n",
    "</div>\n",
    "In this subsection you will prepare the data for training. \n"
   ]
  },
  {
   "cell_type": "code",
   "execution_count": 64,
   "id": "fc3c4dfd",
   "metadata": {},
   "outputs": [
    {
     "name": "stdout",
     "output_type": "stream",
     "text": [
      "X.shape= (2848070, 29) y.shape= (2848070,)\n"
     ]
    }
   ],
   "source": [
    "# data preprocessing such as scaling/normalization is typically useful for \n",
    "# linear models to accelerate the training convergence\n",
    "\n",
    "# standardize features by removing the mean and scaling to unit variance\n",
    "big_raw_data.iloc[:, 1:30] = StandardScaler().fit_transform(big_raw_data.iloc[:, 1:30])\n",
    "data_matrix = big_raw_data.values\n",
    "\n",
    "# X: feature matrix (for this analysis, we exclude the Time variable from the dataset)\n",
    "X = data_matrix[:, 1:30]\n",
    "\n",
    "# y: labels vector\n",
    "y = data_matrix[:, 30]\n",
    "\n",
    "# data normalization\n",
    "X = normalize(X, norm=\"l1\")\n",
    "\n",
    "# print the shape of the features matrix and the labels vector\n",
    "print('X.shape=', X.shape, 'y.shape=', y.shape)"
   ]
  },
  {
   "cell_type": "markdown",
   "id": "1e32c4a6",
   "metadata": {},
   "source": [
    "<div id=\"dataset_split\">\n",
    "    <h2>Dataset Train/Test Split</h2>\n",
    "</div>\n",
    "Now that the dataset is ready for building the classification models, you need to first divide the pre-processed dataset into a subset to be used for training the model (the train set) and a subset to be used for evaluating the quality of the model (the test set).\n"
   ]
  },
  {
   "cell_type": "code",
   "execution_count": null,
   "id": "1b6c2be4",
   "metadata": {},
   "outputs": [],
   "source": []
  },
  {
   "cell_type": "code",
   "execution_count": 65,
   "id": "f743157e",
   "metadata": {},
   "outputs": [
    {
     "name": "stdout",
     "output_type": "stream",
     "text": [
      "X_train.shape= (1993649, 29) Y_train.shape= (1993649,)\n",
      "X_test.shape= (854421, 29) Y_test.shape= (854421,)\n"
     ]
    }
   ],
   "source": [
    "X_train, X_test, y_train, y_test = train_test_split(X, y, test_size=0.3, random_state=42, stratify=y)       \n",
    "print('X_train.shape=', X_train.shape, 'Y_train.shape=', y_train.shape)\n",
    "print('X_test.shape=', X_test.shape, 'Y_test.shape=', y_test.shape)"
   ]
  },
  {
   "cell_type": "markdown",
   "id": "15bfbe91",
   "metadata": {},
   "source": [
    "### removing class imbalance"
   ]
  },
  {
   "cell_type": "code",
   "execution_count": 66,
   "id": "90c5e2fe",
   "metadata": {},
   "outputs": [],
   "source": [
    "# compute the sample weights to be used as input to the train routine so that \n",
    "# it takes into account the class imbalance present in this dataset\n",
    "w_train = compute_sample_weight('balanced', y_train)"
    "from sklearn import preprocessing"
    "from sklearn import utils"

    "#convert y values to categorical values"
    "lab = preprocessing.LabelEncoder()"
    "y_t = lab.fit_transform(w_train)"

   ]
  },
  {
   "cell_type": "markdown",
   "id": "294cc7c5",
   "metadata": {},
   "source": [
    "## Build a classifier"
   ]
  },
  {
   "cell_type": "code",
   "execution_count": 67,
   "id": "8151d9ee",
   "metadata": {},
   "outputs": [
    {
     "data": {
      "text/plain": [
       "LogisticRegression()"
      ]
     },
     "execution_count": 67,
     "metadata": {},
     "output_type": "execute_result"
    }
   ],
   "source": [
    "#import files necessary \n",
    "#train a classifier using scikit-learn\n",
    "\n",
    "from sklearn.linear_model import LogisticRegression\n",
    "\n",
    "model = LogisticRegression()\n",
    "model.fit(X_train, y_t)\n",
    "# your code here"
   ]
  },
  {
   "cell_type": "code",
   "execution_count": null,
   "id": "e2c5173c",
   "metadata": {},
   "outputs": [],
   "source": []
  },
  {
   "cell_type": "code",
   "execution_count": 22,
   "id": "a16a0259",
   "metadata": {},
   "outputs": [],
   "source": [
    "#from sklearn.neighbors import KNeighborsClassifier\n",
    "#modelk = KNeighborsClassifier(n_neighbors=5)\n",
    "#modelk.fit(X_train , y_train)\n",
    "\n",
    "\n",
    "\n",
    "\n"
   ]
  },
  {
   "cell_type": "code",
   "execution_count": 24,
   "id": "b56462d6",
   "metadata": {},
   "outputs": [],
   "source": [
    "#from sklearn.metrics import accuracy_score\n",
    "#X_train_prediction = modelk.predict(X_train)\n",
    "#training_data_accuracy = accuracy_score(X_train_prediction, y_train)\n",
    "#X_test_prediction = modelk.predict(X_test)\n",
    "#test_data_accuracy = accuracy_score(X_test_prediction, y_test)\n",
    "\n",
    "#print('Accuracy on Training data : ', training_data_accuracy)\n",
    "#print('Accuracy score on Test Data : ', test_data_accuracy)"
   ]
  },
  {
   "cell_type": "code",
   "execution_count": 69,
   "id": "e2479dd4",
   "metadata": {},
   "outputs": [
    {
     "name": "stdout",
     "output_type": "stream",
     "text": [
      "train prediction [0. 0. 0. ... 0. 0. 0.]\n",
      "test prediction [0. 0. 0. ... 0. 0. 0.]\n",
      "F1 Score on training data: 0.7794303797468354\n",
      "F1 Score on testing data: 0.7813432835820895\n",
      "Accuracy on Training data :  0.9993007796257014\n",
      "Accuracy score on Test Data :  0.9993141554339138\n"
     ]
    }
   ],
   "source": [
    "## Evaluate your classifier \n",
    "# run inference and compute the probabilities of the test samples \n",
    "# to belong to the class of fraudulent transactions\n",
    "\n",
    "# Sample code to get predictions: predicted_labels = model.predict_probality(X_test)[:,1]\n",
    "#testing_metric_according_to_model_used, or score(true_labels, predicted_labels)\n",
    "\n",
    "#compute accuracy metric of your choice. \n",
    "\n",
    "\n",
    "#############################################################\n",
    "\n",
    "#your code here\n",
    "from sklearn.metrics import accuracy_score\n",
    "from sklearn.metrics import classification_report, f1_score\n",
    "X_train_prediction = model.predict(X_train)\n",
    "training_data_accuracy = accuracy_score(X_train_prediction, y_train)\n",
    "X_test_prediction = model.predict(X_test)\n",
    "test_data_accuracy = accuracy_score(X_test_prediction, y_test)\n",
    "\n",
    "ft= f1_score(X_train_prediction, y_train)\n",
    "f2= f1_score(X_test_prediction, y_test)\n",
    "print(\"train prediction\",X_train_prediction )\n",
    "print(\"test prediction\",X_test_prediction )\n",
    "print(\"F1 Score on training data:\",ft)\n",
    "print(\"F1 Score on testing data:\",f2)\n",
    "print('Accuracy on Training data : ', training_data_accuracy)\n",
    "print('Accuracy score on Test Data : ', test_data_accuracy)\n"
   ]
  },
  {
   "cell_type": "markdown",
   "id": "5e91a296",
   "metadata": {},
   "source": [
    "## Discuss your findings below"
   ]
  },
  {
   "cell_type": "code",
   "execution_count": null,
   "id": "d2eee23a",
   "metadata": {},
   "outputs": [],
   "source": [
    "our dataset is large,biased and is imbalance.\n",
    "since the data set is large\n",
    "we will use logistic regression\n",
    "instead of knn classifier.\n",
    "\n",
    "the f1 score has scored less because of imbalance with in dataset\n",
    "accuracy is good with 0.99 score both on training and testing data.\n",
    "\n"
   ]
  }
 ],
 "metadata": {
  "kernelspec": {
   "display_name": "Python 3 (ipykernel)",
   "language": "python",
   "name": "python3"
  },
  "language_info": {
   "codemirror_mode": {
    "name": "ipython",
    "version": 3
   },
   "file_extension": ".py",
   "mimetype": "text/x-python",
   "name": "python",
   "nbconvert_exporter": "python",
   "pygments_lexer": "ipython3",
   "version": "3.9.12"
  }
 },
 "nbformat": 4,
 "nbformat_minor": 5
}
